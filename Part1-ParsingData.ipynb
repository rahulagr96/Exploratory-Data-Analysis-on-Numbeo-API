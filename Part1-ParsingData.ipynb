{
 "cells": [
  {
   "cell_type": "markdown",
   "id": "eeec755b",
   "metadata": {},
   "source": [
    "## Importing Libraries"
   ]
  },
  {
   "cell_type": "code",
   "execution_count": 1,
   "id": "67501fa5",
   "metadata": {},
   "outputs": [],
   "source": [
    "import json, requests, urllib\n",
    "from pathlib import Path\n",
    "import pandas as pd\n",
    "import numpy as np\n",
    "import missingno as msno"
   ]
  },
  {
   "cell_type": "markdown",
   "id": "4443dd63",
   "metadata": {},
   "source": [
    "## Variables"
   ]
  },
  {
   "cell_type": "code",
   "execution_count": 2,
   "id": "9fe0c5b7",
   "metadata": {},
   "outputs": [],
   "source": [
    "# Defining the countries in list\n",
    "countries_list = [\"India\", \"Brazil\", \"Iran\", \"United States\"]\n",
    "# Setting pandas dataframe precision to 2\n",
    "pd.set_option(\"precision\", 2)\n",
    "# Setting up country colors\n",
    "country_colors = {\n",
    "    \"India\": \"green\",\n",
    "    \"Brazil\": \"darkred\",\n",
    "    \"Iran\": \"navy\",\n",
    "    \"United States\": \"red\",\n",
    "}\n",
    "# Setting up font size\n",
    "fontsize = 13"
   ]
  },
  {
   "cell_type": "code",
   "execution_count": 3,
   "id": "ddbca112",
   "metadata": {},
   "outputs": [],
   "source": [
    "# creating folder structure for raw data\n",
    "dir_raw = Path(\"raw\")\n",
    "dir_raw.mkdir(parents=True, exist_ok=True)\n",
    "# creating folder structure for clean data\n",
    "dir_data = Path(\"data\")\n",
    "dir_data.mkdir(parents=True, exist_ok=True)"
   ]
  },
  {
   "cell_type": "code",
   "execution_count": 4,
   "id": "ac6e288f",
   "metadata": {},
   "outputs": [],
   "source": [
    "# defining api key\n",
    "f = open(\"apikey.txt\", \"r\")\n",
    "api_key = f.read()\n",
    "# defining api url\n",
    "api_prefix = \" https://www.numbeo.com/api\""
   ]
  },
  {
   "cell_type": "markdown",
   "id": "80972ed7",
   "metadata": {},
   "source": [
    "## Fetching Data"
   ]
  },
  {
   "cell_type": "code",
   "execution_count": 5,
   "id": "2b813acd",
   "metadata": {},
   "outputs": [],
   "source": [
    "def fetch(endpoint, params={}):\n",
    "    # construct the url\n",
    "    url = api_prefix\n",
    "    if not endpoint.startswith(\"/\"):\n",
    "        url += \"/\"\n",
    "    url += endpoint\n",
    "    (api_prefix, endpoint)\n",
    "\n",
    "    ke = {\"api_key\": api_key}\n",
    "    url += f\"?{urllib.parse.urlencode(ke)}\"\n",
    "    if params:\n",
    "        url += f\"&{urllib.parse.urlencode(params)}\"\n",
    "    print(f\"Fetching {url}\")\n",
    "    # fetch the page\n",
    "    response = requests.get(url)\n",
    "    jdata = response.text\n",
    "    return json.loads(jdata)"
   ]
  },
  {
   "cell_type": "code",
   "execution_count": 6,
   "id": "260365bd",
   "metadata": {},
   "outputs": [],
   "source": [
    "def fetch_all(section):\n",
    "    # create the endpoint URL\n",
    "    endpoint = \"/rankings_by_country_historical\"\n",
    "    # fetch the current data\n",
    "    params = {\"section\": section}\n",
    "    conditions_data = fetch(endpoint, params)\n",
    "    # write it out to our raw dataset directory\n",
    "    fname = f\"data_{section}.json\"\n",
    "    out_path = dir_raw / fname\n",
    "    print(f\"Writing data to {out_path}\")\n",
    "    with open(out_path, \"w\") as fout:\n",
    "        json.dump(conditions_data, fout, indent=4, sort_keys=True)"
   ]
  },
  {
   "cell_type": "code",
   "execution_count": 7,
   "id": "c47961c5",
   "metadata": {},
   "outputs": [
    {
     "name": "stdout",
     "output_type": "stream",
     "text": [
      "Fetching  https://www.numbeo.com/api/rankings_by_country_historical?api_key=u2hnidtpefviua&section=12\n",
      "Writing data to raw\\data_12.json\n"
     ]
    }
   ],
   "source": [
    "# defining section for api\n",
    "sections = [12]\n",
    "for section in sections:\n",
    "    fetch_all(section)"
   ]
  },
  {
   "cell_type": "markdown",
   "id": "89da55f9",
   "metadata": {},
   "source": [
    "## Parsing Data"
   ]
  },
  {
   "cell_type": "code",
   "execution_count": 8,
   "id": "78c7ed28",
   "metadata": {},
   "outputs": [],
   "source": [
    "def parse_raw_data(country, section):\n",
    "    fname = f\"data_{section}.json\"\n",
    "    fpath = dir_raw / fname\n",
    "    with open(fpath, \"r\") as fin:\n",
    "        jdata = fin.read()\n",
    "        data = json.loads(jdata)\n",
    "\n",
    "        all_data = []\n",
    "        for year in data:\n",
    "            if year.isnumeric():\n",
    "                for countries in data[year]:\n",
    "                    if countries[\"country\"] == country and section == 12:\n",
    "                        res = dict(\n",
    "                            year=year,\n",
    "                            country=countries[\"country\"],\n",
    "                            traffic_time_index=countries[\"traffic_time_index\"],\n",
    "                            quality_of_life_index=countries[\"quality_of_life_index\"],\n",
    "                            healthcare_index=countries[\"healthcare_index\"],\n",
    "                            purchasing_power_incl_rent_index=countries[\n",
    "                                \"purchasing_power_incl_rent_index\"\n",
    "                            ],\n",
    "                            house_price_to_income_ratio=countries[\n",
    "                                \"house_price_to_income_ratio\"\n",
    "                            ],\n",
    "                            pollution_index=countries[\"pollution_index\"],\n",
    "                            safety_index=countries[\"safety_index\"],\n",
    "                            cpi_index=countries[\"cpi_index\"],\n",
    "                        )\n",
    "                        all_data.append(res)\n",
    "    return pd.DataFrame(all_data)\n",
    "\n",
    "\n",
    "def parse_merge_raw_data(country, section):\n",
    "    df_files = []\n",
    "    return parse_raw_data(country, section)\n",
    "\n",
    "\n",
    "import itertools\n",
    "df_countries = {}\n",
    "for section, country in itertools.product(sections, countries_list):\n",
    "    df_country = parse_merge_raw_data(country, section)\n",
    "    df_countries[country] = df_country"
   ]
  },
  {
   "cell_type": "code",
   "execution_count": 9,
   "id": "4e8bc9d8",
   "metadata": {},
   "outputs": [],
   "source": [
    "# creating a full dataframe\n",
    "import itertools\n",
    "full_df = []\n",
    "for section, country in itertools.product(sections, countries_list):\n",
    "    df_country = parse_raw_data(country, section)\n",
    "    full_df.append(df_country)\n",
    "full = pd.concat(full_df)\n",
    "full.index = np.arange(1, len(full) + 1)"
   ]
  },
  {
   "cell_type": "code",
   "execution_count": 10,
   "id": "c0e342d4",
   "metadata": {},
   "outputs": [
    {
     "data": {
      "text/plain": [
       "dict_keys(['India', 'Brazil', 'Iran', 'United States'])"
      ]
     },
     "execution_count": 10,
     "metadata": {},
     "output_type": "execute_result"
    }
   ],
   "source": [
    "df_countries.keys()"
   ]
  },
  {
   "cell_type": "code",
   "execution_count": 11,
   "id": "25ad40a5",
   "metadata": {},
   "outputs": [
    {
     "data": {
      "text/html": [
       "<div><div id=5d4e506b-98a2-4206-9781-9f8ed3959424 style=\"display:none; background-color:#9D6CFF; color:white; width:200px; height:30px; padding-left:5px; border-radius:4px; flex-direction:row; justify-content:space-around; align-items:center;\" onmouseover=\"this.style.backgroundColor='#BA9BF8'\" onmouseout=\"this.style.backgroundColor='#9D6CFF'\" onclick=\"window.commands?.execute('create-mitosheet-from-dataframe-output');\">See Full Dataframe in Mito</div> <script> if (window.commands.hasCommand('create-mitosheet-from-dataframe-output')) document.getElementById('5d4e506b-98a2-4206-9781-9f8ed3959424').style.display = 'flex' </script> <table border=\"1\" class=\"dataframe\">\n",
       "  <thead>\n",
       "    <tr style=\"text-align: right;\">\n",
       "      <th></th>\n",
       "      <th>year</th>\n",
       "      <th>country</th>\n",
       "      <th>traffic_time_index</th>\n",
       "      <th>quality_of_life_index</th>\n",
       "      <th>healthcare_index</th>\n",
       "      <th>purchasing_power_incl_rent_index</th>\n",
       "      <th>house_price_to_income_ratio</th>\n",
       "      <th>pollution_index</th>\n",
       "      <th>safety_index</th>\n",
       "      <th>cpi_index</th>\n",
       "    </tr>\n",
       "  </thead>\n",
       "  <tbody>\n",
       "    <tr>\n",
       "      <th>0</th>\n",
       "      <td>2014</td>\n",
       "      <td>India</td>\n",
       "      <td>47.72</td>\n",
       "      <td>78.01</td>\n",
       "      <td>64.62</td>\n",
       "      <td>62.33</td>\n",
       "      <td>10.16</td>\n",
       "      <td>74.34</td>\n",
       "      <td>56.30</td>\n",
       "      <td>26.70</td>\n",
       "    </tr>\n",
       "    <tr>\n",
       "      <th>1</th>\n",
       "      <td>2015</td>\n",
       "      <td>India</td>\n",
       "      <td>45.24</td>\n",
       "      <td>78.60</td>\n",
       "      <td>66.86</td>\n",
       "      <td>65.79</td>\n",
       "      <td>10.06</td>\n",
       "      <td>77.72</td>\n",
       "      <td>53.45</td>\n",
       "      <td>26.27</td>\n",
       "    </tr>\n",
       "    <tr>\n",
       "      <th>2</th>\n",
       "      <td>2016</td>\n",
       "      <td>India</td>\n",
       "      <td>45.98</td>\n",
       "      <td>109.28</td>\n",
       "      <td>66.47</td>\n",
       "      <td>89.65</td>\n",
       "      <td>10.54</td>\n",
       "      <td>77.02</td>\n",
       "      <td>53.41</td>\n",
       "      <td>24.14</td>\n",
       "    </tr>\n",
       "    <tr>\n",
       "      <th>3</th>\n",
       "      <td>2017</td>\n",
       "      <td>India</td>\n",
       "      <td>46.38</td>\n",
       "      <td>101.52</td>\n",
       "      <td>69.18</td>\n",
       "      <td>76.73</td>\n",
       "      <td>10.28</td>\n",
       "      <td>76.53</td>\n",
       "      <td>56.04</td>\n",
       "      <td>25.08</td>\n",
       "    </tr>\n",
       "    <tr>\n",
       "      <th>4</th>\n",
       "      <td>2018</td>\n",
       "      <td>India</td>\n",
       "      <td>46.76</td>\n",
       "      <td>122.09</td>\n",
       "      <td>67.39</td>\n",
       "      <td>79.27</td>\n",
       "      <td>9.73</td>\n",
       "      <td>75.89</td>\n",
       "      <td>55.84</td>\n",
       "      <td>26.88</td>\n",
       "    </tr>\n",
       "    <tr>\n",
       "      <th>5</th>\n",
       "      <td>2019</td>\n",
       "      <td>India</td>\n",
       "      <td>45.71</td>\n",
       "      <td>117.51</td>\n",
       "      <td>68.32</td>\n",
       "      <td>66.91</td>\n",
       "      <td>11.33</td>\n",
       "      <td>75.81</td>\n",
       "      <td>57.28</td>\n",
       "      <td>24.17</td>\n",
       "    </tr>\n",
       "    <tr>\n",
       "      <th>6</th>\n",
       "      <td>2020</td>\n",
       "      <td>India</td>\n",
       "      <td>46.99</td>\n",
       "      <td>108.63</td>\n",
       "      <td>67.13</td>\n",
       "      <td>54.30</td>\n",
       "      <td>11.38</td>\n",
       "      <td>78.87</td>\n",
       "      <td>56.68</td>\n",
       "      <td>24.58</td>\n",
       "    </tr>\n",
       "    <tr>\n",
       "      <th>7</th>\n",
       "      <td>2021</td>\n",
       "      <td>India</td>\n",
       "      <td>46.66</td>\n",
       "      <td>104.52</td>\n",
       "      <td>66.25</td>\n",
       "      <td>47.13</td>\n",
       "      <td>11.31</td>\n",
       "      <td>79.62</td>\n",
       "      <td>55.28</td>\n",
       "      <td>25.16</td>\n",
       "    </tr>\n",
       "    <tr>\n",
       "      <th>8</th>\n",
       "      <td>2022</td>\n",
       "      <td>India</td>\n",
       "      <td>46.52</td>\n",
       "      <td>110.99</td>\n",
       "      <td>65.66</td>\n",
       "      <td>49.72</td>\n",
       "      <td>10.16</td>\n",
       "      <td>73.05</td>\n",
       "      <td>55.37</td>\n",
       "      <td>24.43</td>\n",
       "    </tr>\n",
       "  </tbody>\n",
       "</table></div>"
      ],
      "text/plain": [
       "   year country  traffic_time_index  quality_of_life_index  healthcare_index  \\\n",
       "0  2014   India               47.72                  78.01             64.62   \n",
       "1  2015   India               45.24                  78.60             66.86   \n",
       "2  2016   India               45.98                 109.28             66.47   \n",
       "3  2017   India               46.38                 101.52             69.18   \n",
       "4  2018   India               46.76                 122.09             67.39   \n",
       "5  2019   India               45.71                 117.51             68.32   \n",
       "6  2020   India               46.99                 108.63             67.13   \n",
       "7  2021   India               46.66                 104.52             66.25   \n",
       "8  2022   India               46.52                 110.99             65.66   \n",
       "\n",
       "   purchasing_power_incl_rent_index  house_price_to_income_ratio  \\\n",
       "0                             62.33                        10.16   \n",
       "1                             65.79                        10.06   \n",
       "2                             89.65                        10.54   \n",
       "3                             76.73                        10.28   \n",
       "4                             79.27                         9.73   \n",
       "5                             66.91                        11.33   \n",
       "6                             54.30                        11.38   \n",
       "7                             47.13                        11.31   \n",
       "8                             49.72                        10.16   \n",
       "\n",
       "   pollution_index  safety_index  cpi_index  \n",
       "0            74.34         56.30      26.70  \n",
       "1            77.72         53.45      26.27  \n",
       "2            77.02         53.41      24.14  \n",
       "3            76.53         56.04      25.08  \n",
       "4            75.89         55.84      26.88  \n",
       "5            75.81         57.28      24.17  \n",
       "6            78.87         56.68      24.58  \n",
       "7            79.62         55.28      25.16  \n",
       "8            73.05         55.37      24.43  "
      ]
     },
     "execution_count": 11,
     "metadata": {},
     "output_type": "execute_result"
    }
   ],
   "source": [
    "df_countries[\"India\"]"
   ]
  },
  {
   "cell_type": "markdown",
   "id": "3b1b10ec",
   "metadata": {},
   "source": [
    "## Check missing val"
   ]
  },
  {
   "cell_type": "code",
   "execution_count": 12,
   "id": "8450984c",
   "metadata": {},
   "outputs": [
    {
     "name": "stdout",
     "output_type": "stream",
     "text": [
      "-- India\n",
      "No missing values found\n",
      "-- Brazil\n",
      "No missing values found\n",
      "-- Iran\n",
      "No missing values found\n",
      "-- United States\n",
      "No missing values found\n"
     ]
    }
   ],
   "source": [
    "for country in countries_list:\n",
    "    print(f\"-- {country}\")\n",
    "    missing_counts = df_countries[country].isnull().sum()\n",
    "    # which coludmns have missing values?\n",
    "    missing_counts = missing_counts[missing_counts > 0]\n",
    "    if len(missing_counts) == 0:\n",
    "        print(\"No missing values found\")\n",
    "    else:\n",
    "        print(missing_counts)"
   ]
  },
  {
   "cell_type": "code",
   "execution_count": 13,
   "id": "d5d39b8e",
   "metadata": {},
   "outputs": [
    {
     "data": {
      "text/plain": [
       "year                                0\n",
       "country                             0\n",
       "traffic_time_index                  0\n",
       "quality_of_life_index               0\n",
       "healthcare_index                    0\n",
       "purchasing_power_incl_rent_index    0\n",
       "house_price_to_income_ratio         0\n",
       "pollution_index                     0\n",
       "safety_index                        0\n",
       "cpi_index                           0\n",
       "dtype: int64"
      ]
     },
     "execution_count": 13,
     "metadata": {},
     "output_type": "execute_result"
    }
   ],
   "source": [
    "# checking null data for full dataset\n",
    "full.isnull().sum()"
   ]
  },
  {
   "cell_type": "code",
   "execution_count": 14,
   "id": "3d3bf369",
   "metadata": {},
   "outputs": [
    {
     "data": {
      "text/plain": [
       "<AxesSubplot:>"
      ]
     },
     "execution_count": 14,
     "metadata": {},
     "output_type": "execute_result"
    },
    {
     "data": {
      "image/png": "[encoded data removed]",
      "text/plain": [
       "<Figure size 1800x720 with 3 Axes>"
      ]
     },
     "metadata": {
      "needs_background": "light"
     },
     "output_type": "display_data"
    }
   ],
   "source": [
    "msno.bar(full)"
   ]
  },
  {
   "cell_type": "markdown",
   "id": "981ca05f",
   "metadata": {},
   "source": [
    "## Data Saving"
   ]
  },
  {
   "cell_type": "code",
   "execution_count": 15,
   "id": "de9db5cf",
   "metadata": {},
   "outputs": [
    {
     "name": "stdout",
     "output_type": "stream",
     "text": [
      "Writing data\\India.json\n",
      "Writing data\\Brazil.json\n",
      "Writing data\\Iran.json\n",
      "Writing data\\United States.json\n"
     ]
    }
   ],
   "source": [
    "for country in countries_list:\n",
    "    fname = f\"{country}.json\"\n",
    "    out_path = dir_data / fname\n",
    "    print(f\"Writing {out_path}\")\n",
    "    df_countries[country].to_json(out_path, orient=\"index\", indent=4)"
   ]
  },
  {
   "cell_type": "code",
   "execution_count": 16,
   "id": "67eadef6",
   "metadata": {},
   "outputs": [
    {
     "name": "stdout",
     "output_type": "stream",
     "text": [
      "Writing data\\full.json\n"
     ]
    }
   ],
   "source": [
    "# saving the full dataset\n",
    "path = f\"{dir_data}\\\\full.json\"\n",
    "full.to_json(path, orient=\"index\", indent=4)\n",
    "print(f\"Writing {path}\")"
   ]
  },
  {
   "cell_type": "code",
   "execution_count": null,
   "id": "2aec7ccd",
   "metadata": {},
   "outputs": [],
   "source": []
  }
 ],
 "metadata": {
  "kernelspec": {
   "display_name": "Python 3 (ipykernel)",
   "language": "python",
   "name": "python3"
  },
  "language_info": {
   "codemirror_mode": {
    "name": "ipython",
    "version": 3
   },
   "file_extension": ".py",
   "mimetype": "text/x-python",
   "name": "python",
   "nbconvert_exporter": "python",
   "pygments_lexer": "ipython3",
   "version": "3.10.2"
  }
 },
 "nbformat": 4,
 "nbformat_minor": 5
}
